{
 "cells": [
  {
   "cell_type": "markdown",
   "metadata": {},
   "source": [
    "# 一.创建tensor的方法\n",
    "1.torch.Tensor(),torch.Tensor([[1,2],[3,4]])\n",
    "\n",
    "2.torch.eye():创建对角线全1，其余全零的tensor\n",
    "\n",
    "3.torch.zeros(),torch.zeros_like():参数为一个tensor\n",
    "\n",
    "4.随机生成 torch.rand():生成服从[0,1)均匀分布的tensor，torch.randn()：生成服从标准正态分布的tensor\n"
   ]
  },
  {
   "cell_type": "code",
   "execution_count": 1,
   "metadata": {},
   "outputs": [],
   "source": [
    "import torch\n",
    "from random import uniform\n"
   ]
  },
  {
   "cell_type": "code",
   "execution_count": 2,
   "metadata": {},
   "outputs": [
    {
     "name": "stdout",
     "output_type": "stream",
     "text": [
      "tensor value from different nor dis:torch.FloatTensor\n",
      "tensor([   1.3981,  100.9963, 1018.1807])\n"
     ]
    }
   ],
   "source": [
    "# torch.normal()\n",
    "x_dif_nor=torch.normal(mean=torch.Tensor([1.,100.,1000.]),std=torch.Tensor([1.,10.,20.]))\n",
    "print('tensor value from different nor dis:{0}\\n{1}'.format(x_dif_nor.type(),x_dif_nor))\n"
   ]
  },
  {
   "cell_type": "markdown",
   "metadata": {},
   "source": [
    "torch.Tensor.uniform_():用符合[a,b]间均匀分布的值填充tensor\n",
    "将tensor使用符合[a,b)间均匀分布的值填充"
   ]
  },
  {
   "cell_type": "code",
   "execution_count": 3,
   "metadata": {},
   "outputs": [
    {
     "name": "stdout",
     "output_type": "stream",
     "text": [
      "x_uniform:torch.FloatTensor\n",
      "tensor([[208.5290, 225.0346, 231.1167],\n",
      "        [296.7490, 275.3958, 268.3394]])\n"
     ]
    }
   ],
   "source": [
    "x_uniform_=torch.Tensor(2,3).uniform_(200,300)\n",
    "print('x_uniform:{0}\\n{1}'.format(x_uniform_.type(),x_uniform_))"
   ]
  },
  {
   "cell_type": "markdown",
   "metadata": {},
   "source": [
    "生成序列tensor"
   ]
  }
 ],
 "metadata": {
  "celltoolbar": "原始单元格格式",
  "kernelspec": {
   "display_name": "Python 3 (ipykernel)",
   "language": "python",
   "name": "python3"
  },
  "language_info": {
   "codemirror_mode": {
    "name": "ipython",
    "version": 3
   },
   "file_extension": ".py",
   "mimetype": "text/x-python",
   "name": "python",
   "nbconvert_exporter": "python",
   "pygments_lexer": "ipython3",
   "version": "3.8.13"
  }
 },
 "nbformat": 4,
 "nbformat_minor": 4
}
